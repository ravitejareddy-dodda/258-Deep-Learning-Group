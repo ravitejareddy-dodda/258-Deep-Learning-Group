{
  "nbformat": 4,
  "nbformat_minor": 0,
  "metadata": {
    "colab": {
      "provenance": [],
      "authorship_tag": "ABX9TyMDwoCWV/H7cEbZARcaeDCi",
      "include_colab_link": true
    },
    "kernelspec": {
      "name": "python3",
      "display_name": "Python 3"
    },
    "language_info": {
      "name": "python"
    }
  },
  "cells": [
    {
      "cell_type": "markdown",
      "metadata": {
        "id": "view-in-github",
        "colab_type": "text"
      },
      "source": [
        "<a href=\"https://colab.research.google.com/github/ravitejareddy-dodda/258-Deep-Learning-Group/blob/main/search_and_sort_in_tensorflow.ipynb\" target=\"_parent\"><img src=\"https://colab.research.google.com/assets/colab-badge.svg\" alt=\"Open In Colab\"/></a>"
      ]
    },
    {
      "cell_type": "markdown",
      "source": [
        "Linear search"
      ],
      "metadata": {
        "id": "1MlKpHngDWGb"
      }
    },
    {
      "cell_type": "code",
      "source": [
        "import tensorflow as tf\n",
        "\n",
        "def linear_search(arr, target):\n",
        "    for i in range(len(arr)):\n",
        "        if arr[i] == target:\n",
        "            return i\n",
        "    return -1\n",
        "\n",
        "arr = tf.constant([59, 78, 86, 102, 230, 231, 675, 892])\n",
        "target = tf.constant(102)\n",
        "\n",
        "result = linear_search(arr, target)\n",
        "print(result)\n"
      ],
      "metadata": {
        "colab": {
          "base_uri": "https://localhost:8080/"
        },
        "id": "WOcgOr1VDZFU",
        "outputId": "52533487-538f-4a86-af0e-b44737ce881f"
      },
      "execution_count": 2,
      "outputs": [
        {
          "output_type": "stream",
          "name": "stdout",
          "text": [
            "3\n"
          ]
        }
      ]
    },
    {
      "cell_type": "markdown",
      "source": [
        " Insertion Sort"
      ],
      "metadata": {
        "id": "cN3R9hroDma-"
      }
    },
    {
      "cell_type": "code",
      "source": [
        "\n",
        "\n",
        "def insertion_sort(arr):\n",
        "    for i in range(1, len(arr)):\n",
        "        key = arr[i]\n",
        "        j = i - 1\n",
        "        while j >= 0 and arr[j] > key:\n",
        "            arr = tf.tensor_scatter_nd_update(arr, [[j+1]], [arr[j]])\n",
        "            j = j - 1\n",
        "        arr = tf.tensor_scatter_nd_update(arr, [[j+1]], [key])\n",
        "    return arr\n",
        "\n",
        "arr = tf.constant([3, 5, 2, 6, 8, 1])\n",
        "result = insertion_sort(arr)\n",
        "print(result)\n"
      ],
      "metadata": {
        "colab": {
          "base_uri": "https://localhost:8080/"
        },
        "id": "erxwtrMqDtFQ",
        "outputId": "959eb72d-1e51-489a-fe9e-34705862f18b"
      },
      "execution_count": 5,
      "outputs": [
        {
          "output_type": "stream",
          "name": "stdout",
          "text": [
            "tf.Tensor([1 2 3 5 6 8], shape=(6,), dtype=int32)\n"
          ]
        }
      ]
    },
    {
      "cell_type": "markdown",
      "source": [
        "Binary Search"
      ],
      "metadata": {
        "id": "hBoysN0EDyfn"
      }
    },
    {
      "cell_type": "code",
      "source": [
        "\n",
        "def binary_search(arr, target):\n",
        "    low = 0\n",
        "    high = len(arr) - 1\n",
        "    while low <= high:\n",
        "        mid = (low + high) // 2\n",
        "        if arr[mid] == target:\n",
        "            return mid\n",
        "        elif arr[mid] < target:\n",
        "            low = mid + 1\n",
        "        else:\n",
        "            high = mid - 1\n",
        "    return -1\n",
        "\n",
        "arr = tf.constant([1, 2, 3, 4, 5])\n",
        "target = tf\n"
      ],
      "metadata": {
        "id": "cZwDXdP5Ez3_"
      },
      "execution_count": 4,
      "outputs": []
    }
  ]
}