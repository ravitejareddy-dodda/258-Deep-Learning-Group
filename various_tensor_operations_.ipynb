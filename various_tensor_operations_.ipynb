{
  "cells": [
    {
      "cell_type": "markdown",
      "metadata": {
        "id": "view-in-github",
        "colab_type": "text"
      },
      "source": [
        "<a href=\"https://colab.research.google.com/github/ravitejareddy-dodda/258-Deep-Learning-Group/blob/main/various_tensor_operations_.ipynb\" target=\"_parent\"><img src=\"https://colab.research.google.com/assets/colab-badge.svg\" alt=\"Open In Colab\"/></a>"
      ]
    },
    {
      "cell_type": "markdown",
      "metadata": {
        "id": "qFdPvlXBOdUN"
      },
      "source": [
        "#Tensors"
      ]
    },
    {
      "cell_type": "code",
      "execution_count": 1,
      "metadata": {
        "id": "AL2hzxorJiWy"
      },
      "outputs": [],
      "source": [
        "import tensorflow as tf\n",
        "import numpy as np"
      ]
    },
    {
      "cell_type": "code",
      "execution_count": 5,
      "metadata": {
        "id": "d5JcgLFR6gHv",
        "colab": {
          "base_uri": "https://localhost:8080/"
        },
        "outputId": "b9984ff9-17f0-4a9e-ca9d-28cf92687b95"
      },
      "outputs": [
        {
          "output_type": "stream",
          "name": "stdout",
          "text": [
            "tf.Tensor(6, shape=(), dtype=int32)\n"
          ]
        }
      ],
      "source": [
        "rank_0= tf.constant(6)\n",
        "print(rank_0)"
      ]
    },
    {
      "cell_type": "code",
      "execution_count": 7,
      "metadata": {
        "id": "oZos8o_R6oE7",
        "colab": {
          "base_uri": "https://localhost:8080/"
        },
        "outputId": "129b3e18-22c4-4a36-c90b-304cb3f25636"
      },
      "outputs": [
        {
          "output_type": "stream",
          "name": "stdout",
          "text": [
            "tf.Tensor([7. 8. 9.], shape=(3,), dtype=float32)\n"
          ]
        }
      ],
      "source": [
        "rank_1= tf.constant([7.0, 8.0, 9.0])\n",
        "print(rank_1)"
      ]
    },
    {
      "cell_type": "code",
      "execution_count": 8,
      "metadata": {
        "id": "cnOIA_xb6u0M",
        "colab": {
          "base_uri": "https://localhost:8080/"
        },
        "outputId": "e6eea992-2217-452b-c69b-893a10b1cdb5"
      },
      "outputs": [
        {
          "output_type": "stream",
          "name": "stdout",
          "text": [
            "tf.Tensor(\n",
            "[[1. 2.]\n",
            " [3. 4.]\n",
            " [5. 6.]], shape=(3, 2), dtype=float16)\n"
          ]
        }
      ],
      "source": [
        "rank_2 = tf.constant([[1, 2],\n",
        "                             [3, 4],\n",
        "                             [5, 6]], dtype=tf.float16)\n",
        "print(rank_2)"
      ]
    },
    {
      "cell_type": "code",
      "execution_count": 10,
      "metadata": {
        "id": "sesW7gw6JkXy",
        "colab": {
          "base_uri": "https://localhost:8080/"
        },
        "outputId": "f0c1a8a6-ef52-4792-ef5b-26912293f533"
      },
      "outputs": [
        {
          "output_type": "stream",
          "name": "stdout",
          "text": [
            "tf.Tensor(\n",
            "[[[10 11 12 13 14]\n",
            "  [15 16 17 18 19]]\n",
            "\n",
            " [[20 21 22 23 24]\n",
            "  [25 26 27 28 29]]\n",
            "\n",
            " [[30 31 32 33 34]\n",
            "  [35 36 37 38 39]]], shape=(3, 2, 5), dtype=int32)\n"
          ]
        }
      ],
      "source": [
        "rank_3 = tf.constant([\n",
        "  [[10, 11, 12, 13, 14],\n",
        "   [15, 16, 17, 18, 19]],\n",
        "  [[20, 21, 22, 23, 24],\n",
        "   [25, 26, 27, 28, 29]],\n",
        "  [[30, 31, 32, 33, 34],\n",
        "   [35, 36, 37, 38, 39]],])\n",
        "\n",
        "print(rank_3)"
      ]
    },
    {
      "cell_type": "markdown",
      "metadata": {
        "id": "oWAc0U8OZwNb"
      },
      "source": [
        "converting tensor to array"
      ]
    },
    {
      "cell_type": "code",
      "execution_count": 11,
      "metadata": {
        "id": "J5u6_6ZYaS7B",
        "colab": {
          "base_uri": "https://localhost:8080/"
        },
        "outputId": "f72249ab-2aab-4707-eabd-456406c448d6"
      },
      "outputs": [
        {
          "output_type": "execute_result",
          "data": {
            "text/plain": [
              "array([[1., 2.],\n",
              "       [3., 4.],\n",
              "       [5., 6.]], dtype=float16)"
            ]
          },
          "metadata": {},
          "execution_count": 11
        }
      ],
      "source": [
        "np.array(rank_2)"
      ]
    },
    {
      "cell_type": "code",
      "execution_count": 12,
      "metadata": {
        "id": "c6Taz2gIaZeo",
        "colab": {
          "base_uri": "https://localhost:8080/"
        },
        "outputId": "627117f3-ce24-4394-97ee-8a48f927a100"
      },
      "outputs": [
        {
          "output_type": "execute_result",
          "data": {
            "text/plain": [
              "array([[1., 2.],\n",
              "       [3., 4.],\n",
              "       [5., 6.]], dtype=float16)"
            ]
          },
          "metadata": {},
          "execution_count": 12
        }
      ],
      "source": [
        "rank_2.numpy()"
      ]
    },
    {
      "cell_type": "markdown",
      "metadata": {
        "id": "SDC7OGeAIJr8"
      },
      "source": [
        "addition, element-wise multiplication, and matrix multiplication."
      ]
    },
    {
      "cell_type": "code",
      "execution_count": 14,
      "metadata": {
        "id": "-DTkjwDOIIDa",
        "colab": {
          "base_uri": "https://localhost:8080/"
        },
        "outputId": "b9d07ae2-e443-4404-eccf-4c33e424cf01"
      },
      "outputs": [
        {
          "output_type": "stream",
          "name": "stdout",
          "text": [
            "tf.Tensor(\n",
            "[[2 3]\n",
            " [4 5]], shape=(2, 2), dtype=int32) \n",
            "\n",
            "tf.Tensor(\n",
            "[[1 2]\n",
            " [3 4]], shape=(2, 2), dtype=int32) \n",
            "\n",
            "tf.Tensor(\n",
            "[[3 3]\n",
            " [7 7]], shape=(2, 2), dtype=int32) \n",
            "\n"
          ]
        }
      ],
      "source": [
        "x = tf.constant([[1, 2],\n",
        "                 [3, 4]])\n",
        "y = tf.constant([[1, 1],\n",
        "                 [1, 1]]) \n",
        "print(tf.add(x, y), \"\\n\")\n",
        "print(tf.multiply(x, y), \"\\n\")\n",
        "print(tf.matmul(x, y), \"\\n\")"
      ]
    },
    {
      "cell_type": "code",
      "execution_count": 15,
      "metadata": {
        "id": "2smoWeUz-N2q",
        "colab": {
          "base_uri": "https://localhost:8080/"
        },
        "outputId": "8aa97f11-ab0d-40d7-b71e-fe414353c010"
      },
      "outputs": [
        {
          "output_type": "stream",
          "name": "stdout",
          "text": [
            "tf.Tensor(\n",
            "[[2 3]\n",
            " [4 5]], shape=(2, 2), dtype=int32) \n",
            "\n",
            "tf.Tensor(\n",
            "[[1 2]\n",
            " [3 4]], shape=(2, 2), dtype=int32) \n",
            "\n",
            "tf.Tensor(\n",
            "[[3 3]\n",
            " [7 7]], shape=(2, 2), dtype=int32) \n",
            "\n"
          ]
        }
      ],
      "source": [
        "print(x + y, \"\\n\") # addition\n",
        "print(x * y, \"\\n\") # multiplication\n",
        "print(x @ y, \"\\n\") # matrix multiplication"
      ]
    },
    {
      "cell_type": "code",
      "execution_count": 16,
      "metadata": {
        "id": "Gp4WUYzGIbnv",
        "colab": {
          "base_uri": "https://localhost:8080/"
        },
        "outputId": "82289511-98a6-4cb5-a92d-2ed03e009cda"
      },
      "outputs": [
        {
          "output_type": "stream",
          "name": "stdout",
          "text": [
            "tf.Tensor(10.0, shape=(), dtype=float32)\n",
            "tf.Tensor([1 0], shape=(2,), dtype=int64)\n",
            "tf.Tensor(\n",
            "[[2.6894143e-01 7.3105860e-01]\n",
            " [9.9987662e-01 1.2339458e-04]], shape=(2, 2), dtype=float32)\n"
          ]
        }
      ],
      "source": [
        "z = tf.constant([[4.0, 5.0], [10.0, 1.0]])\n",
        "\n",
        "#largest value\n",
        "print(tf.reduce_max(z))\n",
        "#index of the largest value\n",
        "print(tf.math.argmax(z))\n",
        "# Compute the softmax\n",
        "print(tf.nn.softmax(z))"
      ]
    },
    {
      "cell_type": "code",
      "execution_count": 17,
      "metadata": {
        "id": "_wch0N8xNEt-",
        "colab": {
          "base_uri": "https://localhost:8080/"
        },
        "outputId": "59d7160d-c9b8-4b11-f7f4-85ddba62aef8"
      },
      "outputs": [
        {
          "output_type": "execute_result",
          "data": {
            "text/plain": [
              "<tf.Tensor: shape=(3,), dtype=int32, numpy=array([1, 2, 3], dtype=int32)>"
            ]
          },
          "metadata": {},
          "execution_count": 17
        }
      ],
      "source": [
        "tf.convert_to_tensor([1,2,3])"
      ]
    },
    {
      "cell_type": "code",
      "execution_count": 18,
      "metadata": {
        "id": "ngqIeWYeNJVI",
        "colab": {
          "base_uri": "https://localhost:8080/"
        },
        "outputId": "efcccaeb-f81f-469d-d2e0-4f0a10c79be0"
      },
      "outputs": [
        {
          "output_type": "execute_result",
          "data": {
            "text/plain": [
              "<tf.Tensor: shape=(), dtype=int32, numpy=3>"
            ]
          },
          "metadata": {},
          "execution_count": 18
        }
      ],
      "source": [
        "tf.reduce_max([1,2,3])"
      ]
    },
    {
      "cell_type": "code",
      "execution_count": 19,
      "metadata": {
        "id": "ThVMxqbVNOq3",
        "colab": {
          "base_uri": "https://localhost:8080/"
        },
        "outputId": "588f9034-10e6-4154-f02b-6e1c5e113e72"
      },
      "outputs": [
        {
          "output_type": "execute_result",
          "data": {
            "text/plain": [
              "<tf.Tensor: shape=(), dtype=int64, numpy=3>"
            ]
          },
          "metadata": {},
          "execution_count": 19
        }
      ],
      "source": [
        "tf.reduce_max(np.array([1,2,3]))"
      ]
    },
    {
      "cell_type": "code",
      "execution_count": 20,
      "metadata": {
        "id": "RyD3yewUKdnK"
      },
      "outputs": [],
      "source": [
        "rank_4 = tf.zeros([3, 2, 4, 5])"
      ]
    },
    {
      "cell_type": "code",
      "execution_count": 22,
      "metadata": {
        "id": "MHm9vSqogsBk",
        "colab": {
          "base_uri": "https://localhost:8080/"
        },
        "outputId": "6cb3232a-2424-4926-d3d0-230004ae3e71"
      },
      "outputs": [
        {
          "output_type": "stream",
          "name": "stdout",
          "text": [
            "Type: <dtype: 'float32'>\n",
            "No. of axes: 4\n",
            "Shape: (3, 2, 4, 5)\n",
            "Elements along axis 0: 3\n",
            "Elements along the last axis: 5\n",
            "Total number of elements:  120\n"
          ]
        }
      ],
      "source": [
        "print(\"Type:\", rank_4.dtype)\n",
        "print(\"No. of axes:\", rank_4.ndim)\n",
        "print(\"Shape:\", rank_4.shape)\n",
        "print(\"Elements along axis 0:\", rank_4.shape[0])\n",
        "print(\"Elements along the last axis:\", rank_4.shape[-1])\n",
        "print(\"Total number of elements: \", tf.size(rank_4).numpy())"
      ]
    },
    {
      "cell_type": "code",
      "execution_count": 23,
      "metadata": {
        "id": "Ptq0-y6APCpD",
        "colab": {
          "base_uri": "https://localhost:8080/"
        },
        "outputId": "edc15279-b35d-42f8-d477-54caf6d04f4c"
      },
      "outputs": [
        {
          "output_type": "execute_result",
          "data": {
            "text/plain": [
              "<tf.Tensor: shape=(), dtype=int32, numpy=4>"
            ]
          },
          "metadata": {},
          "execution_count": 23
        }
      ],
      "source": [
        "tf.rank(rank_4)"
      ]
    },
    {
      "cell_type": "code",
      "execution_count": 24,
      "metadata": {
        "id": "HslrDOEBPICN",
        "colab": {
          "base_uri": "https://localhost:8080/"
        },
        "outputId": "0309bc1b-af1a-44eb-c51f-059595e14161"
      },
      "outputs": [
        {
          "output_type": "execute_result",
          "data": {
            "text/plain": [
              "<tf.Tensor: shape=(4,), dtype=int32, numpy=array([3, 2, 4, 5], dtype=int32)>"
            ]
          },
          "metadata": {},
          "execution_count": 24
        }
      ],
      "source": [
        "tf.shape(rank_4)"
      ]
    },
    {
      "cell_type": "markdown",
      "metadata": {
        "id": "FlPoVvJS75Bb"
      },
      "source": [
        "## Indexing"
      ]
    },
    {
      "cell_type": "code",
      "execution_count": 25,
      "metadata": {
        "id": "SQ-CrJxLXTIM",
        "colab": {
          "base_uri": "https://localhost:8080/"
        },
        "outputId": "4570b2ab-c34b-4304-c008-e72fb36b2bf4"
      },
      "outputs": [
        {
          "output_type": "stream",
          "name": "stdout",
          "text": [
            "[ 0  1  1  2  3  5  8 13 21 34]\n"
          ]
        }
      ],
      "source": [
        "rank_1 = tf.constant([0, 1, 1, 2, 3, 5, 8, 13, 21, 34])\n",
        "print(rank_1.numpy())"
      ]
    },
    {
      "cell_type": "markdown",
      "metadata": {
        "id": "mQYYL56PXSak"
      },
      "source": [
        "Indexing with a scalar removes the axis:"
      ]
    },
    {
      "cell_type": "code",
      "execution_count": 26,
      "metadata": {
        "id": "n6tqHciOWMt5",
        "colab": {
          "base_uri": "https://localhost:8080/"
        },
        "outputId": "8a10fa7b-ad7f-4eb3-8ec9-e84e434ea10a"
      },
      "outputs": [
        {
          "output_type": "stream",
          "name": "stdout",
          "text": [
            "First: 0\n",
            "Second: 1\n",
            "Last: 34\n"
          ]
        }
      ],
      "source": [
        "print(\"First:\", rank_1[0].numpy())\n",
        "print(\"Second:\", rank_1[1].numpy())\n",
        "print(\"Last:\", rank_1[-1].numpy())"
      ]
    },
    {
      "cell_type": "markdown",
      "metadata": {
        "id": "qJLHU_a2XwpG"
      },
      "source": [
        "Indexing with a `:` slice keeps the axis:"
      ]
    },
    {
      "cell_type": "code",
      "execution_count": 27,
      "metadata": {
        "id": "giVPPcfQX-cu",
        "colab": {
          "base_uri": "https://localhost:8080/"
        },
        "outputId": "21e4a19e-92f0-41ad-d4a2-ae9db531e062"
      },
      "outputs": [
        {
          "output_type": "stream",
          "name": "stdout",
          "text": [
            "Everything: [ 0  1  1  2  3  5  8 13 21 34]\n",
            "Before 8: [ 0  1  1  2  3  5  8 13]\n",
            "From 8 to the end: [21 34]\n",
            "From 3, before 9: [ 2  3  5  8 13 21]\n",
            "Every other item: [ 0  1  3  8 21]\n",
            "Reversed: [34 21 13  8  5  3  2  1  1  0]\n"
          ]
        }
      ],
      "source": [
        "print(\"Everything:\", rank_1[:].numpy())\n",
        "print(\"Before 8:\", rank_1[:8].numpy())\n",
        "print(\"From 8 to the end:\", rank_1[8:].numpy())\n",
        "print(\"From 3, before 9:\", rank_1[3:9].numpy())\n",
        "print(\"Every other item:\", rank_1[::2].numpy())\n",
        "print(\"Reversed:\", rank_1[::-1].numpy())"
      ]
    },
    {
      "cell_type": "markdown",
      "metadata": {
        "id": "elDSxXi7X-Bh"
      },
      "source": [
        "### Multi-axis indexing"
      ]
    },
    {
      "cell_type": "code",
      "execution_count": 28,
      "metadata": {
        "id": "Tc5X_WlsZXmd",
        "colab": {
          "base_uri": "https://localhost:8080/"
        },
        "outputId": "8f994b32-906f-46ad-c72c-63a5244fe21d"
      },
      "outputs": [
        {
          "output_type": "stream",
          "name": "stdout",
          "text": [
            "[[1. 2.]\n",
            " [3. 4.]\n",
            " [5. 6.]]\n"
          ]
        }
      ],
      "source": [
        "print(rank_2.numpy())"
      ]
    },
    {
      "cell_type": "code",
      "execution_count": 29,
      "metadata": {
        "id": "PvILXc1PjqTM",
        "colab": {
          "base_uri": "https://localhost:8080/"
        },
        "outputId": "9f29a4bc-87fc-431d-acc1-6240a12963eb"
      },
      "outputs": [
        {
          "output_type": "stream",
          "name": "stdout",
          "text": [
            "4.0\n"
          ]
        }
      ],
      "source": [
        "\n",
        "print(rank_2[1, 1].numpy())"
      ]
    },
    {
      "cell_type": "code",
      "execution_count": 30,
      "metadata": {
        "id": "YTqNqsfJkJP_",
        "colab": {
          "base_uri": "https://localhost:8080/"
        },
        "outputId": "7535b535-ae1a-41d1-fed1-10b5d8cf35ff"
      },
      "outputs": [
        {
          "output_type": "stream",
          "name": "stdout",
          "text": [
            "Second row: [3. 4.]\n",
            "Second column: [2. 4. 6.]\n",
            "Last row: [5. 6.]\n",
            "First item in last column: 2.0\n",
            "Skip the first row:\n",
            "[[3. 4.]\n",
            " [5. 6.]] \n",
            "\n"
          ]
        }
      ],
      "source": [
        "# Get row and column\n",
        "print(\"Second row:\", rank_2[1, :].numpy())\n",
        "print(\"Second column:\", rank_2[:, 1].numpy())\n",
        "print(\"Last row:\", rank_2[-1, :].numpy())\n",
        "print(\"First item in last column:\", rank_2[0, -1].numpy())\n",
        "print(\"Skip the first row:\")\n",
        "print(rank_2[1:, :].numpy(), \"\\n\")"
      ]
    },
    {
      "cell_type": "code",
      "execution_count": 33,
      "metadata": {
        "id": "GuLoMoCVSLxK",
        "colab": {
          "base_uri": "https://localhost:8080/"
        },
        "outputId": "2f86d7ce-292f-43e1-ad6f-ffb0a22681a4"
      },
      "outputs": [
        {
          "output_type": "stream",
          "name": "stdout",
          "text": [
            "tf.Tensor(\n",
            "[[13 18]\n",
            " [23 28]\n",
            " [33 38]], shape=(3, 2), dtype=int32)\n"
          ]
        }
      ],
      "source": [
        "print(rank_3[:, :, 3])"
      ]
    },
    {
      "cell_type": "code",
      "execution_count": 34,
      "metadata": {
        "id": "EMeTtga5Wq8j",
        "colab": {
          "base_uri": "https://localhost:8080/"
        },
        "outputId": "272bc310-ca19-4cff-8415-8967299527db"
      },
      "outputs": [
        {
          "output_type": "stream",
          "name": "stdout",
          "text": [
            "(3, 1)\n"
          ]
        }
      ],
      "source": [
        "\n",
        "a = tf.constant([[1], [2], [3]])\n",
        "print(a.shape)"
      ]
    },
    {
      "cell_type": "code",
      "execution_count": 35,
      "metadata": {
        "id": "38jc2RXziT3W",
        "colab": {
          "base_uri": "https://localhost:8080/"
        },
        "outputId": "bb0adb51-4616-4aed-cf58-12ebd4f8e987"
      },
      "outputs": [
        {
          "output_type": "stream",
          "name": "stdout",
          "text": [
            "[3, 1]\n"
          ]
        }
      ],
      "source": [
        "\n",
        "print(a.shape.as_list())"
      ]
    },
    {
      "cell_type": "code",
      "execution_count": 36,
      "metadata": {
        "id": "pa9JCgMLWy87"
      },
      "outputs": [],
      "source": [
        "\n",
        "reshaped = tf.reshape(a, [1, 3])"
      ]
    },
    {
      "cell_type": "code",
      "execution_count": 37,
      "metadata": {
        "id": "Mcq7iXOkW3LK",
        "colab": {
          "base_uri": "https://localhost:8080/"
        },
        "outputId": "1d169a16-d430-4766-9538-7d4edcca3520"
      },
      "outputs": [
        {
          "output_type": "stream",
          "name": "stdout",
          "text": [
            "(3, 1)\n",
            "(1, 3)\n"
          ]
        }
      ],
      "source": [
        "print(a.shape)\n",
        "print(reshaped.shape)"
      ]
    },
    {
      "cell_type": "code",
      "execution_count": 38,
      "metadata": {
        "id": "7kMfM0RpUgI8",
        "colab": {
          "base_uri": "https://localhost:8080/"
        },
        "outputId": "9ca99bc1-7c59-4e69-9e61-182b468e2abb"
      },
      "outputs": [
        {
          "output_type": "stream",
          "name": "stdout",
          "text": [
            "tf.Tensor(\n",
            "[[[10 11 12 13 14]\n",
            "  [15 16 17 18 19]]\n",
            "\n",
            " [[20 21 22 23 24]\n",
            "  [25 26 27 28 29]]\n",
            "\n",
            " [[30 31 32 33 34]\n",
            "  [35 36 37 38 39]]], shape=(3, 2, 5), dtype=int32)\n"
          ]
        }
      ],
      "source": [
        "print(rank_3)"
      ]
    },
    {
      "cell_type": "code",
      "execution_count": 39,
      "metadata": {
        "id": "COnHEPuaWDQp",
        "colab": {
          "base_uri": "https://localhost:8080/"
        },
        "outputId": "5d8c8ec6-70c2-4d2d-c92a-6adb5ae800ea"
      },
      "outputs": [
        {
          "output_type": "stream",
          "name": "stdout",
          "text": [
            "tf.Tensor(\n",
            "[10 11 12 13 14 15 16 17 18 19 20 21 22 23 24 25 26 27 28 29 30 31 32 33\n",
            " 34 35 36 37 38 39], shape=(30,), dtype=int32)\n"
          ]
        }
      ],
      "source": [
        "\n",
        "print(tf.reshape(rank_3, [-1]))"
      ]
    },
    {
      "cell_type": "code",
      "execution_count": 43,
      "metadata": {
        "id": "zP2Iqc7zWu_J",
        "colab": {
          "base_uri": "https://localhost:8080/"
        },
        "outputId": "801d5eb1-48bf-4cbf-b82d-c35e54f68721"
      },
      "outputs": [
        {
          "output_type": "stream",
          "name": "stdout",
          "text": [
            "tf.Tensor(\n",
            "[[10 11 12 13 14]\n",
            " [15 16 17 18 19]\n",
            " [20 21 22 23 24]\n",
            " [25 26 27 28 29]\n",
            " [30 31 32 33 34]\n",
            " [35 36 37 38 39]], shape=(6, 5), dtype=int32) \n",
            "\n",
            "tf.Tensor(\n",
            "[[10 11 12 13 14 15 16 17 18 19]\n",
            " [20 21 22 23 24 25 26 27 28 29]\n",
            " [30 31 32 33 34 35 36 37 38 39]], shape=(3, 10), dtype=int32)\n"
          ]
        }
      ],
      "source": [
        "print(tf.reshape(rank_3, [3*2, 5]), \"\\n\")\n",
        "print(tf.reshape(rank_3, [3, -1]))"
      ]
    },
    {
      "cell_type": "code",
      "execution_count": 44,
      "metadata": {
        "id": "P8sypqmagHQN",
        "colab": {
          "base_uri": "https://localhost:8080/"
        },
        "outputId": "d65182d5-33a1-4102-c411-52ed3277df6f"
      },
      "outputs": [
        {
          "output_type": "stream",
          "name": "stdout",
          "text": [
            "tf.Tensor([2 4 6], shape=(3,), dtype=int32)\n",
            "tf.Tensor([2 4 6], shape=(3,), dtype=int32)\n",
            "tf.Tensor([2 4 6], shape=(3,), dtype=int32)\n"
          ]
        }
      ],
      "source": [
        "x = tf.constant([1, 2, 3])\n",
        "\n",
        "y = tf.constant(2)\n",
        "z = tf.constant([2, 2, 2])\n",
        "print(tf.multiply(x, 2))\n",
        "print(x * y)\n",
        "print(x * z)"
      ]
    },
    {
      "cell_type": "code",
      "execution_count": 45,
      "metadata": {
        "id": "6sGmkPg3XANr",
        "colab": {
          "base_uri": "https://localhost:8080/"
        },
        "outputId": "3efdbe57-acea-4af8-c710-e193da6413a4"
      },
      "outputs": [
        {
          "output_type": "stream",
          "name": "stdout",
          "text": [
            "tf.Tensor(\n",
            "[[1]\n",
            " [2]\n",
            " [3]], shape=(3, 1), dtype=int32) \n",
            "\n",
            "tf.Tensor([1 2 3 4], shape=(4,), dtype=int32) \n",
            "\n",
            "tf.Tensor(\n",
            "[[ 1  2  3  4]\n",
            " [ 2  4  6  8]\n",
            " [ 3  6  9 12]], shape=(3, 4), dtype=int32)\n"
          ]
        }
      ],
      "source": [
        "\n",
        "x = tf.reshape(x,[3,1])\n",
        "y = tf.range(1, 5)\n",
        "print(x, \"\\n\")\n",
        "print(y, \"\\n\")\n",
        "print(tf.multiply(x, y))"
      ]
    },
    {
      "cell_type": "markdown",
      "metadata": {
        "id": "9V3KgSJcKDRz"
      },
      "source": [
        "without broadcasting:"
      ]
    },
    {
      "cell_type": "code",
      "execution_count": 46,
      "metadata": {
        "id": "elrF6v63igY8",
        "colab": {
          "base_uri": "https://localhost:8080/"
        },
        "outputId": "e2f377ce-6eca-4a34-a351-ed6dcb3933f8"
      },
      "outputs": [
        {
          "output_type": "stream",
          "name": "stdout",
          "text": [
            "tf.Tensor(\n",
            "[[ 1  2  3  4]\n",
            " [ 2  4  6  8]\n",
            " [ 3  6  9 12]], shape=(3, 4), dtype=int32)\n"
          ]
        }
      ],
      "source": [
        "x_stretch = tf.constant([[1, 1, 1, 1],\n",
        "                         [2, 2, 2, 2],\n",
        "                         [3, 3, 3, 3]])\n",
        "\n",
        "y_stretch = tf.constant([[1, 2, 3, 4],\n",
        "                         [1, 2, 3, 4],\n",
        "                         [1, 2, 3, 4]])\n",
        "\n",
        "print(x_stretch * y_stretch)"
      ]
    },
    {
      "cell_type": "code",
      "execution_count": 47,
      "metadata": {
        "id": "GW2Q59_r8hZ6",
        "colab": {
          "base_uri": "https://localhost:8080/"
        },
        "outputId": "d44e8222-2c09-4e75-98fa-56d52a2849a9"
      },
      "outputs": [
        {
          "output_type": "stream",
          "name": "stdout",
          "text": [
            "tf.Tensor(\n",
            "[[1 2 3]\n",
            " [1 2 3]\n",
            " [1 2 3]], shape=(3, 3), dtype=int32)\n"
          ]
        }
      ],
      "source": [
        "print(tf.broadcast_to(tf.constant([1, 2, 3]), [3, 3]))"
      ]
    },
    {
      "cell_type": "code",
      "execution_count": 48,
      "metadata": {
        "id": "VsbTjoFfNVBF"
      },
      "outputs": [],
      "source": [
        "ragged_list = [\n",
        "    [0, 1, 2, 3],\n",
        "    [4, 5],\n",
        "    [6, 7, 8],\n",
        "    [9]]"
      ]
    },
    {
      "cell_type": "code",
      "execution_count": 49,
      "metadata": {
        "id": "p4xKTo57tutG",
        "colab": {
          "base_uri": "https://localhost:8080/"
        },
        "outputId": "8ceae9f5-e09b-448d-a414-9de95d3813fa"
      },
      "outputs": [
        {
          "output_type": "stream",
          "name": "stdout",
          "text": [
            "ValueError: Can't convert non-rectangular Python sequence to Tensor.\n"
          ]
        }
      ],
      "source": [
        "try:\n",
        "  tensor = tf.constant(ragged_list)\n",
        "except Exception as e:\n",
        "  print(f\"{type(e).__name__}: {e}\")"
      ]
    },
    {
      "cell_type": "markdown",
      "metadata": {
        "id": "0cm9KuEeMLGI"
      },
      "source": [
        "  `tf.RaggedTensor` using `tf.ragged.constant`:"
      ]
    },
    {
      "cell_type": "code",
      "execution_count": 50,
      "metadata": {
        "id": "XhF3QV3jiqTj",
        "colab": {
          "base_uri": "https://localhost:8080/"
        },
        "outputId": "d47dca7e-9444-4d2a-8003-da3a4bac5e41"
      },
      "outputs": [
        {
          "output_type": "stream",
          "name": "stdout",
          "text": [
            "<tf.RaggedTensor [[0, 1, 2, 3], [4, 5], [6, 7, 8], [9]]>\n"
          ]
        }
      ],
      "source": [
        "ragged_tensor = tf.ragged.constant(ragged_list)\n",
        "print(ragged_tensor)"
      ]
    },
    {
      "cell_type": "code",
      "execution_count": 51,
      "metadata": {
        "id": "Eo_3wJUWNgqB",
        "colab": {
          "base_uri": "https://localhost:8080/"
        },
        "outputId": "737ab5ae-8495-486e-f89f-fe121f87259c"
      },
      "outputs": [
        {
          "output_type": "stream",
          "name": "stdout",
          "text": [
            "(4, None)\n"
          ]
        }
      ],
      "source": [
        "print(ragged_tensor.shape)"
      ]
    },
    {
      "cell_type": "markdown",
      "metadata": {
        "id": "5P_8spEGQ0wp"
      },
      "source": [
        "scalar string tensor:"
      ]
    },
    {
      "cell_type": "code",
      "execution_count": 52,
      "metadata": {
        "id": "sBosmM8MkIh4",
        "colab": {
          "base_uri": "https://localhost:8080/"
        },
        "outputId": "62ce6cbe-374d-4bb2-b063-bbb53f75dd72"
      },
      "outputs": [
        {
          "output_type": "stream",
          "name": "stdout",
          "text": [
            "tf.Tensor(b'Gray wolf', shape=(), dtype=string)\n"
          ]
        }
      ],
      "source": [
        "\n",
        "scalar_string_tensor = tf.constant(\"Gray wolf\")\n",
        "print(scalar_string_tensor)"
      ]
    },
    {
      "cell_type": "markdown",
      "metadata": {
        "id": "CMFBSl1FQ3vE"
      },
      "source": [
        "vector of strings:"
      ]
    },
    {
      "cell_type": "code",
      "execution_count": 54,
      "metadata": {
        "id": "41Dv2kL9QrtO",
        "colab": {
          "base_uri": "https://localhost:8080/"
        },
        "outputId": "d16e10d3-0b94-4f0e-9cec-635d0944ee52"
      },
      "outputs": [
        {
          "output_type": "stream",
          "name": "stdout",
          "text": [
            "tf.Tensor([b'black toy' b'Quic black cow' b'Lazy donkey'], shape=(3,), dtype=string)\n"
          ]
        }
      ],
      "source": [
        "\n",
        "tensor_of_strings = tf.constant([\"black toy\",\n",
        "                                 \"Quic black cow\",\n",
        "                                 \"Lazy donkey\"])\n",
        "\n",
        "print(tensor_of_strings)"
      ]
    },
    {
      "cell_type": "code",
      "execution_count": 56,
      "metadata": {
        "id": "8k2K0VTFyj8e",
        "colab": {
          "base_uri": "https://localhost:8080/"
        },
        "outputId": "e65c4d63-4a56-4a91-805b-bb986a10a0ce"
      },
      "outputs": [
        {
          "output_type": "stream",
          "name": "stdout",
          "text": [
            "tf.Tensor([b'Gray' b'wolf'], shape=(2,), dtype=string)\n"
          ]
        }
      ],
      "source": [
        "\n",
        "print(tf.strings.split(scalar_string_tensor, sep=\" \"))"
      ]
    },
    {
      "cell_type": "code",
      "execution_count": 57,
      "metadata": {
        "id": "zgGAn1dfR-04",
        "colab": {
          "base_uri": "https://localhost:8080/"
        },
        "outputId": "ba978c25-ff20-4453-917e-5c3098a50f02"
      },
      "outputs": [
        {
          "output_type": "stream",
          "name": "stdout",
          "text": [
            "<tf.RaggedTensor [[b'black', b'toy'], [b'Quic', b'black', b'cow'], [b'Lazy', b'donkey']]>\n"
          ]
        }
      ],
      "source": [
        "\n",
        "print(tf.strings.split(tensor_of_strings))"
      ]
    },
    {
      "cell_type": "code",
      "execution_count": 58,
      "metadata": {
        "id": "3nRtx3X9WRfN",
        "colab": {
          "base_uri": "https://localhost:8080/"
        },
        "outputId": "8896f547-3cfd-4fbd-984a-70d3654796bc"
      },
      "outputs": [
        {
          "output_type": "stream",
          "name": "stdout",
          "text": [
            "tf.Tensor([  1.  10. 100.], shape=(3,), dtype=float32)\n"
          ]
        }
      ],
      "source": [
        "text = tf.constant(\"1 10 100\")\n",
        "print(tf.strings.to_number(tf.strings.split(text, \" \")))"
      ]
    },
    {
      "cell_type": "code",
      "execution_count": 61,
      "metadata": {
        "id": "fo8BjmH7gyTj",
        "colab": {
          "base_uri": "https://localhost:8080/"
        },
        "outputId": "8797b208-2bfb-4ba6-836f-70b9504645da"
      },
      "outputs": [
        {
          "output_type": "stream",
          "name": "stdout",
          "text": [
            "Byte strings: tf.Tensor([b'D' b'u' b'c' b'k'], shape=(4,), dtype=string)\n",
            "Bytes: tf.Tensor([ 68 117  99 107], shape=(4,), dtype=uint8)\n"
          ]
        }
      ],
      "source": [
        "byte_strings = tf.strings.bytes_split(tf.constant(\"Duck\"))\n",
        "byte_ints = tf.io.decode_raw(tf.constant(\"Duck\"), tf.uint8)\n",
        "print(\"Byte strings:\", byte_strings)\n",
        "print(\"Bytes:\", byte_ints)"
      ]
    },
    {
      "cell_type": "code",
      "execution_count": 62,
      "metadata": {
        "id": "uSQnZ7d1jCSQ",
        "colab": {
          "base_uri": "https://localhost:8080/"
        },
        "outputId": "6fcd57a5-7eab-41c2-da63-07dd7afc01bf"
      },
      "outputs": [
        {
          "output_type": "stream",
          "name": "stdout",
          "text": [
            "\n",
            "Unicode bytes: tf.Tensor(b'\\xe3\\x82\\xa2\\xe3\\x83\\x92\\xe3\\x83\\xab \\xf0\\x9f\\xa6\\x86', shape=(), dtype=string)\n",
            "\n",
            "Unicode chars: tf.Tensor([b'\\xe3\\x82\\xa2' b'\\xe3\\x83\\x92' b'\\xe3\\x83\\xab' b' ' b'\\xf0\\x9f\\xa6\\x86'], shape=(5,), dtype=string)\n",
            "\n",
            "Unicode values: tf.Tensor([ 12450  12498  12523     32 129414], shape=(5,), dtype=int32)\n"
          ]
        }
      ],
      "source": [
        "unicode_bytes = tf.constant(\"アヒル 🦆\")\n",
        "unicode_char_bytes = tf.strings.unicode_split(unicode_bytes, \"UTF-8\")\n",
        "unicode_values = tf.strings.unicode_decode(unicode_bytes, \"UTF-8\")\n",
        "\n",
        "print(\"\\nUnicode bytes:\", unicode_bytes)\n",
        "print(\"\\nUnicode chars:\", unicode_char_bytes)\n",
        "print(\"\\nUnicode values:\", unicode_values)"
      ]
    },
    {
      "cell_type": "markdown",
      "metadata": {
        "id": "ua8BnAzxkRKV"
      },
      "source": [
        "## Sparse tensors\n",
        "\n"
      ]
    },
    {
      "cell_type": "code",
      "execution_count": 63,
      "metadata": {
        "id": "B9nbO1E2kSUN",
        "colab": {
          "base_uri": "https://localhost:8080/"
        },
        "outputId": "2cb79d4f-4dd8-465e-99bf-dc5a1d7ff0ff"
      },
      "outputs": [
        {
          "output_type": "stream",
          "name": "stdout",
          "text": [
            "SparseTensor(indices=tf.Tensor(\n",
            "[[0 0]\n",
            " [1 2]], shape=(2, 2), dtype=int64), values=tf.Tensor([1 2], shape=(2,), dtype=int32), dense_shape=tf.Tensor([3 4], shape=(2,), dtype=int64)) \n",
            "\n",
            "tf.Tensor(\n",
            "[[1 0 0 0]\n",
            " [0 0 2 0]\n",
            " [0 0 0 0]], shape=(3, 4), dtype=int32)\n"
          ]
        }
      ],
      "source": [
        "\n",
        "sparse_tensor = tf.sparse.SparseTensor(indices=[[0, 0], [1, 2]],\n",
        "                                       values=[1, 2],\n",
        "                                       dense_shape=[3, 4])\n",
        "print(sparse_tensor, \"\\n\")\n",
        "\n",
        "\n",
        "print(tf.sparse.to_dense(sparse_tensor))"
      ]
    }
  ],
  "metadata": {
    "colab": {
      "collapsed_sections": [
        "Tce3stUlHN0L"
      ],
      "provenance": [],
      "toc_visible": true,
      "include_colab_link": true
    },
    "kernelspec": {
      "display_name": "Python 3",
      "name": "python3"
    }
  },
  "nbformat": 4,
  "nbformat_minor": 0
}